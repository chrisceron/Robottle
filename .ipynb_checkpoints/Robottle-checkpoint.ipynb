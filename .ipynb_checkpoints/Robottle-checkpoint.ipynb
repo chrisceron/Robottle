{
 "cells": [
  {
   "cell_type": "markdown",
   "id": "540d365d-4581-4d5b-b3bb-d129ed271c32",
   "metadata": {},
   "source": [
    "### Creating the world's fastest bot"
   ]
  },
  {
   "cell_type": "code",
   "execution_count": null,
   "id": "50665ad7-9690-4317-847c-19231a2e46a8",
   "metadata": {},
   "outputs": [],
   "source": []
  }
 ],
 "metadata": {
  "kernelspec": {
   "display_name": "Python 3 (ipykernel)",
   "language": "python",
   "name": "python3"
  },
  "language_info": {
   "codemirror_mode": {
    "name": "ipython",
    "version": 3
   },
   "file_extension": ".py",
   "mimetype": "text/x-python",
   "name": "python",
   "nbconvert_exporter": "python",
   "pygments_lexer": "ipython3",
   "version": "3.9.7"
  }
 },
 "nbformat": 4,
 "nbformat_minor": 5
}
